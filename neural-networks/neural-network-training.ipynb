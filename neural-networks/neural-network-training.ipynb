{
 "cells": [
  {
   "metadata": {},
   "cell_type": "markdown",
   "source": [
    "# Neural Network training\n",
    "Source: [Building a Neural Network & Making Predictions With Python AI](https://realpython.com/courses/build-neural-network-python-ai/)"
   ],
   "id": "87ce91bd666042ce"
  },
  {
   "metadata": {
    "ExecuteTime": {
     "end_time": "2024-04-27T14:56:37.859263Z",
     "start_time": "2024-04-27T14:56:37.856130Z"
    }
   },
   "cell_type": "code",
   "source": [
    "import matplotlib.pyplot as plt\n",
    "import numpy as np\n"
   ],
   "id": "8751f74d3ef9bbd4",
   "outputs": [],
   "execution_count": 23
  },
  {
   "metadata": {
    "ExecuteTime": {
     "end_time": "2024-04-27T15:14:59.925995Z",
     "start_time": "2024-04-27T15:14:59.914431Z"
    }
   },
   "cell_type": "code",
   "source": [
    "class NeuralNetwork:\n",
    "    \"\"\"\n",
    "    Neural network model.\n",
    "    \"\"\"\n",
    "\n",
    "    def __init__(self, learning_rate: float):\n",
    "        self.learning_rate = learning_rate\n",
    "        self.bias = np.random.randn()\n",
    "        self.weights = np.array([np.random.randn(), np.random.randn()])\n",
    "        print(f\"Neural network: weights={self.weights}, bias={self.bias}, learning_rate={self.learning_rate}\")\n",
    "\n",
    "    def _sigmoid(self, x: np.array) -> np.array:\n",
    "        \"\"\"\n",
    "        Calculates the sigmoid activation function.\n",
    "        :param x: Input\n",
    "        :return: Output\n",
    "        \"\"\"\n",
    "        return 1 / (1 + np.exp(-x))\n",
    "\n",
    "    def _sigmoid_derivative(self, x: np.array) -> np.array:\n",
    "        \"\"\"\n",
    "        Sigmoid derivative function.\n",
    "        :param x: Input\n",
    "        :return: Sigmoid derivative value of the input\n",
    "        \"\"\"\n",
    "        return self._sigmoid(x) * (1 - self._sigmoid(x))\n",
    "\n",
    "    def predict(self, x: np.array, debug: bool = False) -> np.array:\n",
    "        \"\"\"\n",
    "        Predicts the output of the neural network.\n",
    "        :param x: Input\n",
    "        :param debug: Debug flag (False by default)\n",
    "        :return: Prediction\n",
    "        \"\"\"\n",
    "        prediction = self._sigmoid(np.dot(x, self.weights) + self.bias)\n",
    "        if debug:\n",
    "            print(f\"Neural network: input={x}, prediction={prediction}\")\n",
    "        return prediction\n",
    "\n",
    "    def error(self, prediction: np.array, target: np.array) -> np.array:\n",
    "        \"\"\"\n",
    "        Calculates the error between prediction and target.\n",
    "        :param prediction: Prediction\n",
    "        :param target: Target\n",
    "        :return: Error\n",
    "        \"\"\"\n",
    "        return np.square(prediction - target)\n",
    "\n",
    "    def _compute_gradients(self, input_vector: np.array, target: np.array, debug: bool = False) -> np.array:\n",
    "        \"\"\"\n",
    "        Compute the weigths and bias gradients based on one input vector and its prediction.\n",
    "        :param input_vector: Input vector.\n",
    "        :param target: Target.\n",
    "        :param debug: Debug flag (False by default)\n",
    "        :return: Gradients as a tuple (weights gradient, bias gradient)\n",
    "        \"\"\"\n",
    "        layer_1 = np.dot(input_vector, self.weights) + self.bias\n",
    "        layer_2 = self._sigmoid(layer_1)\n",
    "        prediction = layer_2\n",
    "\n",
    "        # Calculate the gradients in a back-propagation direction\n",
    "\n",
    "        # Derivative of the error with respect to the prediction\n",
    "        derror_prediction = 2 * (prediction - target)\n",
    "\n",
    "        # Derivative of layer 2 with respect to layer 1's output\n",
    "        dprediction_layer1 = self._sigmoid_derivative(layer_1)\n",
    "\n",
    "        # Derivative of layer 1 with respect to the weights\n",
    "        dlayer1_weights = (0 * self.weights) + (1 * input_vector)\n",
    "\n",
    "        # Derivative of layer 1 with respect to the bias\n",
    "        dlayer1_bias = 1\n",
    "\n",
    "        # Gradients\n",
    "        weights_gradient = derror_prediction * dprediction_layer1 * dlayer1_weights\n",
    "        bias_gradient = derror_prediction * dprediction_layer1 * dlayer1_bias\n",
    "\n",
    "        if debug:\n",
    "            print(f\"Gradients: weights={weights_gradient}, bias={bias_gradient}\")\n",
    "\n",
    "        return weights_gradient, bias_gradient\n",
    "\n",
    "    def _update_parameters(self, weights_gradient: np.array, bias_gradient: np.array) -> None:\n",
    "        \"\"\"\n",
    "        Update the network's parameters using gradient descent.\n",
    "        :param weights_gradient: Weights gradient vector\n",
    "        :param bias_gradient: Bias gradient vector\n",
    "        :return: None.\n",
    "        \"\"\"\n",
    "        self.weights = self.weights - (self.learning_rate * weights_gradient)\n",
    "        self.bias = self.bias - (self.learning_rate * bias_gradient)\n",
    "\n",
    "    def train(self, input_vectors: np.array, targets: np.array, iterations: int) -> list[float]:\n",
    "        \"\"\"\n",
    "        Train the neural network.\n",
    "        :param input_vectors: Input vectors to train on.\n",
    "        :param targets: Train input vectors' labels.\n",
    "        :param iterations: Number of iterations.\n",
    "        :return: List of cumulative errors.\n",
    "        \"\"\"\n",
    "        cumulative_errors = []\n",
    "        for i in range(iterations):\n",
    "            # Pick a random training sample\n",
    "            random_train_index = np.random.randint(len(input_vectors))\n",
    "            train_input_vector = input_vectors[random_train_index]\n",
    "            train_target = targets[random_train_index]\n",
    "\n",
    "            # Compute the gradients\n",
    "            weights_gradient, bias_gradient = self._compute_gradients(train_input_vector, train_target)\n",
    "\n",
    "            # Update the model's parameters\n",
    "            self._update_parameters(weights_gradient, bias_gradient)\n",
    "\n",
    "            # For every 100 iterations, compute the cumulative error over all train data\n",
    "            if i % 100 == 0:\n",
    "                cumulative_error = 0\n",
    "                for train_index in range(len(input_vectors)):\n",
    "                    input_vector = input_vectors[train_index]\n",
    "                    target_vector = targets[train_index]\n",
    "                    prediction = self.predict(input_vector)\n",
    "                    error = self.error(prediction, target_vector)\n",
    "                    cumulative_error += error\n",
    "                cumulative_errors.append(cumulative_error)\n",
    "                print(f\"[{i}] Cumulative error: {cumulative_error}\")\n",
    "\n",
    "        return cumulative_errors"
   ],
   "id": "7b8716f7ffd86804",
   "outputs": [],
   "execution_count": 59
  },
  {
   "metadata": {
    "ExecuteTime": {
     "end_time": "2024-04-27T15:17:35.092034Z",
     "start_time": "2024-04-27T15:17:35.086401Z"
    }
   },
   "cell_type": "code",
   "source": [
    "nn = NeuralNetwork(learning_rate=0.1)\n",
    "\n",
    "test_input_vector_1 = np.array([1.66, 1.56])\n",
    "test_target = np.array([1])\n",
    "test_prediction = nn.predict(test_input_vector_1)\n",
    "test_error = nn.error(test_prediction, test_target)\n",
    "print(f\"input={test_input_vector_1}, target={test_target}, prediction={test_prediction}, error={test_error}\")"
   ],
   "id": "708aa0a99b55ef12",
   "outputs": [
    {
     "name": "stdout",
     "output_type": "stream",
     "text": [
      "Neural network: weights=[-0.42245586 -0.0063062 ], bias=-0.27190022640171585, learning_rate=0.1\n",
      "input=[1.66 1.56], target=[1], prediction=0.27229402595148644, error=[0.52955598]\n"
     ]
    }
   ],
   "execution_count": 65
  },
  {
   "metadata": {
    "ExecuteTime": {
     "end_time": "2024-04-27T15:18:01.235630Z",
     "start_time": "2024-04-27T15:18:01.231295Z"
    }
   },
   "cell_type": "code",
   "source": [
    "train_input_vectors = np.array([[3, 1.5], [2, 1], [4, 1.5], [3, 4], [3.5, 0.5], [2, 0.5], [5.5, 1], [1, 1]])\n",
    "train_targets = np.array([0, 1, 0, 1, 0, 1, 1, 0])\n",
    "train_learning_rate = 0.1\n",
    "\n",
    "neural_network = NeuralNetwork(train_learning_rate)"
   ],
   "id": "fa7b3d54d2ed8a01",
   "outputs": [
    {
     "name": "stdout",
     "output_type": "stream",
     "text": [
      "Neural network: weights=[-0.01944083  1.80369437], bias=0.5818580368901102, learning_rate=0.1\n"
     ]
    }
   ],
   "execution_count": 66
  },
  {
   "metadata": {
    "ExecuteTime": {
     "end_time": "2024-04-27T15:18:10.774554Z",
     "start_time": "2024-04-27T15:18:10.542306Z"
    }
   },
   "cell_type": "code",
   "source": "train_errors = neural_network.train(train_input_vectors, train_targets, 10000)",
   "id": "d3b4732815d0a900",
   "outputs": [
    {
     "name": "stdout",
     "output_type": "stream",
     "text": [
      "[0] Cumulative error: 3.397527529647743\n",
      "[100] Cumulative error: 2.35225543626439\n",
      "[200] Cumulative error: 2.201880878653079\n",
      "[300] Cumulative error: 2.112507952742296\n",
      "[400] Cumulative error: 2.029876603271165\n",
      "[500] Cumulative error: 2.0141015639333633\n",
      "[600] Cumulative error: 1.9744119872762602\n",
      "[700] Cumulative error: 1.9102944399499924\n",
      "[800] Cumulative error: 2.0402407142096504\n",
      "[900] Cumulative error: 2.2247153625911955\n",
      "[1000] Cumulative error: 1.9321147836197106\n",
      "[1100] Cumulative error: 1.9252603395640195\n",
      "[1200] Cumulative error: 1.9657199349406649\n",
      "[1300] Cumulative error: 1.944331351623678\n",
      "[1400] Cumulative error: 2.0440574597653987\n",
      "[1500] Cumulative error: 1.9482285769077896\n",
      "[1600] Cumulative error: 1.9159096182173876\n",
      "[1700] Cumulative error: 2.3203042893101227\n",
      "[1800] Cumulative error: 1.9712985165491168\n",
      "[1900] Cumulative error: 2.0208016507311455\n",
      "[2000] Cumulative error: 2.065678535738389\n",
      "[2100] Cumulative error: 2.0141619291071233\n",
      "[2200] Cumulative error: 2.4754767906847612\n",
      "[2300] Cumulative error: 2.129167251918714\n",
      "[2400] Cumulative error: 1.934756312278334\n",
      "[2500] Cumulative error: 2.2167971630311643\n",
      "[2600] Cumulative error: 1.915492669097754\n",
      "[2700] Cumulative error: 2.068848167508294\n",
      "[2800] Cumulative error: 2.0972449979516266\n",
      "[2900] Cumulative error: 1.920979853711797\n",
      "[3000] Cumulative error: 1.91146079938448\n",
      "[3100] Cumulative error: 2.0586800533584686\n",
      "[3200] Cumulative error: 2.1483086204140345\n",
      "[3300] Cumulative error: 1.9309975505590011\n",
      "[3400] Cumulative error: 2.228078935081629\n",
      "[3500] Cumulative error: 2.140543096898796\n",
      "[3600] Cumulative error: 1.9838361525445904\n",
      "[3700] Cumulative error: 2.1334632151142072\n",
      "[3800] Cumulative error: 1.9716527928935894\n",
      "[3900] Cumulative error: 1.8943898663554062\n",
      "[4000] Cumulative error: 1.947385292285289\n",
      "[4100] Cumulative error: 1.8984127731781437\n",
      "[4200] Cumulative error: 1.8984763550903236\n",
      "[4300] Cumulative error: 1.9669899766372954\n",
      "[4400] Cumulative error: 2.1461993677896327\n",
      "[4500] Cumulative error: 2.222910548774504\n",
      "[4600] Cumulative error: 1.972809677809737\n",
      "[4700] Cumulative error: 2.016141615655312\n",
      "[4800] Cumulative error: 2.206050671986314\n",
      "[4900] Cumulative error: 2.4829554061279957\n",
      "[5000] Cumulative error: 1.8994864391460275\n",
      "[5100] Cumulative error: 1.8874238264138015\n",
      "[5200] Cumulative error: 2.1198286294294877\n",
      "[5300] Cumulative error: 1.8932487215224607\n",
      "[5400] Cumulative error: 2.049981394867957\n",
      "[5500] Cumulative error: 2.0904405103636683\n",
      "[5600] Cumulative error: 1.9556900001453505\n",
      "[5700] Cumulative error: 1.9712020872825047\n",
      "[5800] Cumulative error: 2.0794949822922133\n",
      "[5900] Cumulative error: 1.8926069903937264\n",
      "[6000] Cumulative error: 2.044006174324595\n",
      "[6100] Cumulative error: 1.8867954503660749\n",
      "[6200] Cumulative error: 1.9393863261152084\n",
      "[6300] Cumulative error: 1.8903900973991352\n",
      "[6400] Cumulative error: 2.3051760111354898\n",
      "[6500] Cumulative error: 1.9537966909215516\n",
      "[6600] Cumulative error: 2.088835308264515\n",
      "[6700] Cumulative error: 1.952914661257651\n",
      "[6800] Cumulative error: 2.0796737036409594\n",
      "[6900] Cumulative error: 2.1320949841249863\n",
      "[7000] Cumulative error: 1.952614067022042\n",
      "[7100] Cumulative error: 1.8938733375098988\n",
      "[7200] Cumulative error: 1.9724164874007717\n",
      "[7300] Cumulative error: 2.33874176323566\n",
      "[7400] Cumulative error: 1.9024531294173672\n",
      "[7500] Cumulative error: 2.340226441601266\n",
      "[7600] Cumulative error: 2.0185599249045443\n",
      "[7700] Cumulative error: 1.969021491027334\n",
      "[7800] Cumulative error: 1.9022504965292284\n",
      "[7900] Cumulative error: 1.9064596978651318\n",
      "[8000] Cumulative error: 2.027046983789781\n",
      "[8100] Cumulative error: 2.0144984069870597\n",
      "[8200] Cumulative error: 2.2155154884991504\n",
      "[8300] Cumulative error: 2.0155888581935266\n",
      "[8400] Cumulative error: 1.9160409754592154\n",
      "[8500] Cumulative error: 2.4401117726365755\n",
      "[8600] Cumulative error: 2.0005364030112247\n",
      "[8700] Cumulative error: 1.9519696786154814\n",
      "[8800] Cumulative error: 1.9585998255776647\n",
      "[8900] Cumulative error: 1.9477321931615368\n",
      "[9000] Cumulative error: 1.9017536497650676\n",
      "[9100] Cumulative error: 2.015703187835408\n",
      "[9200] Cumulative error: 2.5704844111124063\n",
      "[9300] Cumulative error: 2.1127573103873414\n",
      "[9400] Cumulative error: 1.9030749561834517\n",
      "[9500] Cumulative error: 1.9016188687350994\n",
      "[9600] Cumulative error: 2.027372293970908\n",
      "[9700] Cumulative error: 2.1475869223729647\n",
      "[9800] Cumulative error: 2.241548730296766\n",
      "[9900] Cumulative error: 1.886716074851004\n"
     ]
    }
   ],
   "execution_count": 67
  },
  {
   "metadata": {
    "ExecuteTime": {
     "end_time": "2024-04-27T15:18:11.784093Z",
     "start_time": "2024-04-27T15:18:11.779544Z"
    }
   },
   "cell_type": "code",
   "source": "train_errors[:10]",
   "id": "d5892dd54f939f3a",
   "outputs": [
    {
     "data": {
      "text/plain": [
       "[3.397527529647743,\n",
       " 2.35225543626439,\n",
       " 2.201880878653079,\n",
       " 2.112507952742296,\n",
       " 2.029876603271165,\n",
       " 2.0141015639333633,\n",
       " 1.9744119872762602,\n",
       " 1.9102944399499924,\n",
       " 2.0402407142096504,\n",
       " 2.2247153625911955]"
      ]
     },
     "execution_count": 68,
     "metadata": {},
     "output_type": "execute_result"
    }
   ],
   "execution_count": 68
  },
  {
   "metadata": {
    "ExecuteTime": {
     "end_time": "2024-04-27T15:18:12.836637Z",
     "start_time": "2024-04-27T15:18:12.595577Z"
    }
   },
   "cell_type": "code",
   "source": [
    "plt.plot(train_errors)\n",
    "plt.xlabel('Iterations')\n",
    "plt.ylabel('Error for all training instances')"
   ],
   "id": "c607a46477e35160",
   "outputs": [
    {
     "data": {
      "text/plain": [
       "Text(0, 0.5, 'Error for all training instances')"
      ]
     },
     "execution_count": 69,
     "metadata": {},
     "output_type": "execute_result"
    },
    {
     "data": {
      "text/plain": [
       "<Figure size 640x480 with 1 Axes>"
      ],
      "image/png": "[encoded data removed]"
     },
     "metadata": {},
     "output_type": "display_data"
    }
   ],
   "execution_count": 69
  },
  {
   "metadata": {},
   "cell_type": "code",
   "outputs": [],
   "execution_count": null,
   "source": "",
   "id": "23857c235ae24ece"
  }
 ],
 "metadata": {
  "kernelspec": {
   "display_name": "Python 3",
   "language": "python",
   "name": "python3"
  },
  "language_info": {
   "codemirror_mode": {
    "name": "ipython",
    "version": 2
   },
   "file_extension": ".py",
   "mimetype": "text/x-python",
   "name": "python",
   "nbconvert_exporter": "python",
   "pygments_lexer": "ipython2",
   "version": "2.7.6"
  }
 },
 "nbformat": 4,
 "nbformat_minor": 5
}
