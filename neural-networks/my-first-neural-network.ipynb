{
 "cells": [
  {
   "metadata": {},
   "cell_type": "markdown",
   "source": [
    "# A very simple Neural Network\n",
    "\n",
    "Source: [Building a Neural Network & Making Predictions With Python AI](https://realpython.com/courses/build-neural-network-python-ai/)"
   ],
   "id": "15fc518d5eb0e1a6"
  },
  {
   "metadata": {},
   "cell_type": "markdown",
   "source": "![My first neural network](./my-first-neural-network.png)",
   "id": "5cd77959c7006dfc"
  },
  {
   "metadata": {
    "ExecuteTime": {
     "end_time": "2024-04-27T12:27:10.008150Z",
     "start_time": "2024-04-27T12:27:09.992829Z"
    }
   },
   "cell_type": "code",
   "source": "import numpy as np",
   "id": "initial_id",
   "outputs": [],
   "execution_count": 32
  },
  {
   "metadata": {},
   "cell_type": "markdown",
   "source": "# Implement the Sigmoid function",
   "id": "e46b7189efaea6f3"
  },
  {
   "metadata": {
    "ExecuteTime": {
     "end_time": "2024-04-27T12:27:12.281848Z",
     "start_time": "2024-04-27T12:27:12.275606Z"
    }
   },
   "cell_type": "code",
   "source": [
    "def sigmoid(x: np.array) -> np.array:\n",
    "    \"\"\"\n",
    "    Sigmoid function\n",
    "    :param x: Input vector\n",
    "    :return: Sigmoid-transformed vector\n",
    "    \"\"\"\n",
    "    return 1 / (1 + np.exp(-x))"
   ],
   "id": "43a31aaea31339c9",
   "outputs": [],
   "execution_count": 33
  },
  {
   "metadata": {
    "ExecuteTime": {
     "end_time": "2024-04-27T12:27:12.953303Z",
     "start_time": "2024-04-27T12:27:12.943577Z"
    }
   },
   "cell_type": "code",
   "source": [
    "test_vector = np.array([1, 2, 3, 4, 5])\n",
    "sigmoid(test_vector)"
   ],
   "id": "4f0aba9d4b7be91b",
   "outputs": [
    {
     "data": {
      "text/plain": [
       "array([0.73105858, 0.88079708, 0.95257413, 0.98201379, 0.99330715])"
      ]
     },
     "execution_count": 34,
     "metadata": {},
     "output_type": "execute_result"
    }
   ],
   "execution_count": 34
  },
  {
   "metadata": {
    "ExecuteTime": {
     "end_time": "2024-04-27T12:27:25.100015Z",
     "start_time": "2024-04-27T12:27:25.092280Z"
    }
   },
   "cell_type": "code",
   "source": "(1 / (1 + np.exp(-test_vector)))",
   "id": "fd4ed9418b1fcb6a",
   "outputs": [
    {
     "data": {
      "text/plain": [
       "array([0.73105858, 0.88079708, 0.95257413, 0.98201379, 0.99330715])"
      ]
     },
     "execution_count": 35,
     "metadata": {},
     "output_type": "execute_result"
    }
   ],
   "execution_count": 35
  },
  {
   "metadata": {
    "ExecuteTime": {
     "end_time": "2024-04-27T12:27:26.939581Z",
     "start_time": "2024-04-27T12:27:26.933951Z"
    }
   },
   "cell_type": "code",
   "source": "(1 / (1 + np.exp(-test_vector)) == sigmoid(test_vector)).all()",
   "id": "6eb8cf6f1ca68e2",
   "outputs": [
    {
     "data": {
      "text/plain": [
       "True"
      ]
     },
     "execution_count": 36,
     "metadata": {},
     "output_type": "execute_result"
    }
   ],
   "execution_count": 36
  },
  {
   "metadata": {},
   "cell_type": "markdown",
   "source": "# Build a simple neural network",
   "id": "f14d3d5138dd9e19"
  },
  {
   "metadata": {},
   "cell_type": "markdown",
   "source": "## First layer",
   "id": "85af7af8c29c8ad9"
  },
  {
   "metadata": {
    "ExecuteTime": {
     "end_time": "2024-04-27T12:29:15.914307Z",
     "start_time": "2024-04-27T12:29:15.911110Z"
    }
   },
   "cell_type": "code",
   "source": [
    "def layer_1(input_vector: np.array, input_weights: np.array, bias: np.array) -> np.array:\n",
    "    \"\"\"\n",
    "    Implements the first layer of the neural network\n",
    "    :param input_vector: Input vector\n",
    "    :param input_weights: Input weights\n",
    "    :param bias: Bias\n",
    "    :return: Fist layer's output\n",
    "    \"\"\"\n",
    "    return np.dot(input_vector, input_weights) + bias"
   ],
   "id": "d1141d81ddaf86a3",
   "outputs": [],
   "execution_count": 41
  },
  {
   "metadata": {
    "ExecuteTime": {
     "end_time": "2024-04-27T12:46:50.310610Z",
     "start_time": "2024-04-27T12:46:50.306947Z"
    }
   },
   "cell_type": "code",
   "source": [
    "test_input_vector_1 = np.array([1.66, 1.56])\n",
    "\n",
    "# Weights with random values to start with\n",
    "test_weights_1 = np.array([1.45, -0.66])\n",
    "\n",
    "test_bias = np.array([0.0])"
   ],
   "id": "f9b62493c3ee5177",
   "outputs": [],
   "execution_count": 103
  },
  {
   "metadata": {
    "ExecuteTime": {
     "end_time": "2024-04-27T12:46:52.408649Z",
     "start_time": "2024-04-27T12:46:52.403647Z"
    }
   },
   "cell_type": "code",
   "source": "layer_1(test_input_vector_1, test_weights_1, test_bias)",
   "id": "fde3a1ed4a42533",
   "outputs": [
    {
     "data": {
      "text/plain": [
       "array([1.3774])"
      ]
     },
     "execution_count": 104,
     "metadata": {},
     "output_type": "execute_result"
    }
   ],
   "execution_count": 104
  },
  {
   "metadata": {},
   "cell_type": "markdown",
   "source": "## Second and final (output) layer",
   "id": "5a630cd9ff7af6dc"
  },
  {
   "metadata": {
    "ExecuteTime": {
     "end_time": "2024-04-27T12:47:10.860915Z",
     "start_time": "2024-04-27T12:47:10.857903Z"
    }
   },
   "cell_type": "code",
   "source": [
    "def layer_2(input_vector: np.array) -> np.array:\n",
    "    \"\"\"\n",
    "    Implements the second layer of the neural network\n",
    "    :param input_vector: Input vector\n",
    "    :return: Second layer's output\n",
    "    \"\"\"\n",
    "    return sigmoid(input_vector)"
   ],
   "id": "ead6427a55235f5d",
   "outputs": [],
   "execution_count": 105
  },
  {
   "metadata": {},
   "cell_type": "markdown",
   "source": "# Run the model to predict",
   "id": "fb5fe44f7e36f1c7"
  },
  {
   "metadata": {
    "ExecuteTime": {
     "end_time": "2024-04-27T12:47:11.962697Z",
     "start_time": "2024-04-27T12:47:11.959577Z"
    }
   },
   "cell_type": "code",
   "source": [
    "def predict(input_vector: np.array, weights_1: np.array, bias: np.array) -> np.array:\n",
    "    \"\"\"\n",
    "    Predict.\n",
    "    :param input_vector: Input vector.\n",
    "    :param weights_1: Layer 1's weights.\n",
    "    :param bias: Bias.\n",
    "    :return: Prediction\n",
    "    \"\"\"\n",
    "    return layer_2(layer_1(input_vector, weights_1, bias))"
   ],
   "id": "5a32ec879f1164fa",
   "outputs": [],
   "execution_count": 106
  },
  {
   "metadata": {
    "ExecuteTime": {
     "end_time": "2024-04-27T12:47:12.943578Z",
     "start_time": "2024-04-27T12:47:12.938769Z"
    }
   },
   "cell_type": "code",
   "source": "predict(test_input_vector_1, test_weights_1, test_bias)",
   "id": "8fc24b67384fdbbd",
   "outputs": [
    {
     "data": {
      "text/plain": [
       "array([0.7985731])"
      ]
     },
     "execution_count": 107,
     "metadata": {},
     "output_type": "execute_result"
    }
   ],
   "execution_count": 107
  },
  {
   "metadata": {
    "ExecuteTime": {
     "end_time": "2024-04-27T12:47:44.535060Z",
     "start_time": "2024-04-27T12:47:44.529965Z"
    }
   },
   "cell_type": "code",
   "source": [
    "test_input_vector_2 = np.array([2, 1.5])\n",
    "predict(test_input_vector_2, test_weights_1, test_bias)"
   ],
   "id": "2b6f9dc513c91423",
   "outputs": [
    {
     "data": {
      "text/plain": [
       "array([0.87101915])"
      ]
     },
     "execution_count": 108,
     "metadata": {},
     "output_type": "execute_result"
    }
   ],
   "execution_count": 108
  },
  {
   "metadata": {},
   "cell_type": "markdown",
   "source": "# Loss function",
   "id": "4bc704c5998e72e"
  },
  {
   "metadata": {
    "ExecuteTime": {
     "end_time": "2024-04-27T13:14:45.657569Z",
     "start_time": "2024-04-27T13:14:45.653896Z"
    }
   },
   "cell_type": "code",
   "source": [
    "def mean_squared_error(prediction: np.array, target: np.array) -> np.array:\n",
    "    \"\"\"\n",
    "    Computes the mean squared error of a prediction.\n",
    "    :param prediction: Prediction\n",
    "    :param target: target\n",
    "    :return: Mean squared error\n",
    "    \"\"\"\n",
    "    return np.square(prediction - target)"
   ],
   "id": "4171fd2418524962",
   "outputs": [],
   "execution_count": 131
  },
  {
   "metadata": {
    "ExecuteTime": {
     "end_time": "2024-04-27T13:14:46.835167Z",
     "start_time": "2024-04-27T13:14:46.829805Z"
    }
   },
   "cell_type": "code",
   "source": [
    "target = np.array([1])\n",
    "prediction = predict(test_input_vector_1, test_weights_1, test_bias)\n",
    "error = mean_squared_error(target, prediction)\n",
    "print(f\"input={test_input_vector_1}, target={target}, prediction={prediction}, error={error}\")"
   ],
   "id": "86dbfe035fab2c40",
   "outputs": [
    {
     "name": "stdout",
     "output_type": "stream",
     "text": [
      "input=[1.66 1.56], target=[1], prediction=[0.7985731], error=[0.04057279]\n"
     ]
    }
   ],
   "execution_count": 132
  },
  {
   "metadata": {
    "ExecuteTime": {
     "end_time": "2024-04-27T13:14:48.461466Z",
     "start_time": "2024-04-27T13:14:48.457177Z"
    }
   },
   "cell_type": "code",
   "source": [
    "target = np.array([0])\n",
    "prediction = predict(test_input_vector_2, test_weights_1, test_bias)\n",
    "error = mean_squared_error(target, prediction)\n",
    "print(f\"input={test_input_vector_2}, target={target}, prediction={prediction}, error={error}\")"
   ],
   "id": "553d93d134312fb",
   "outputs": [
    {
     "name": "stdout",
     "output_type": "stream",
     "text": [
      "input=[2.  1.5], target=[0], prediction=[0.87101915], error=[0.75867436]\n"
     ]
    }
   ],
   "execution_count": 133
  },
  {
   "metadata": {},
   "cell_type": "markdown",
   "source": "# Implement a simple \"gradient descent\" to minimize the loss function",
   "id": "f2798a2a56cbd0ba"
  },
  {
   "metadata": {},
   "cell_type": "markdown",
   "source": "## \"Gradient\": Derivative of the loss function",
   "id": "243a853259f04caf"
  },
  {
   "metadata": {
    "ExecuteTime": {
     "end_time": "2024-04-27T13:15:20.341571Z",
     "start_time": "2024-04-27T13:15:20.338445Z"
    }
   },
   "cell_type": "code",
   "source": [
    "def loss_function_derivative(prediction: np.array, target: np.array, learning_rate: np.array) -> np.array:\n",
    "    \"\"\"\n",
    "    Computes the derivative of the loss function.\n",
    "    :param prediction: Prediction\n",
    "    :param target: Target\n",
    "    :param learning_rate: Learning rate\n",
    "    :return: Derivative of the loss function.\n",
    "    \"\"\"\n",
    "    return 2 * (prediction - target) * learning_rate"
   ],
   "id": "bcaa953152fb6433",
   "outputs": [],
   "execution_count": 134
  },
  {
   "metadata": {},
   "cell_type": "markdown",
   "source": "## Adjust the weights",
   "id": "71486a64058c7344"
  },
  {
   "metadata": {
    "ExecuteTime": {
     "end_time": "2024-04-27T13:15:23.535261Z",
     "start_time": "2024-04-27T13:15:23.529336Z"
    }
   },
   "cell_type": "code",
   "source": [
    "gradient_descent = loss_function_derivative(np.array([0]), predict(test_input_vector_2, test_weights_1, test_bias), np.array([0.1]))\n",
    "gradient_descent"
   ],
   "id": "8ac72c25751388ea",
   "outputs": [
    {
     "data": {
      "text/plain": [
       "array([-0.17420383])"
      ]
     },
     "execution_count": 135,
     "metadata": {},
     "output_type": "execute_result"
    }
   ],
   "execution_count": 135
  },
  {
   "metadata": {
    "ExecuteTime": {
     "end_time": "2024-04-27T13:15:24.285042Z",
     "start_time": "2024-04-27T13:15:24.280301Z"
    }
   },
   "cell_type": "code",
   "source": "test_weights_1 - gradient_descent",
   "id": "21bd543f54e44357",
   "outputs": [
    {
     "data": {
      "text/plain": [
       "array([ 1.62420383, -0.48579617])"
      ]
     },
     "execution_count": 136,
     "metadata": {},
     "output_type": "execute_result"
    }
   ],
   "execution_count": 136
  },
  {
   "metadata": {},
   "cell_type": "markdown",
   "source": "## Predict again with the updated weights",
   "id": "29fe8c8f5ace3f68"
  },
  {
   "metadata": {
    "ExecuteTime": {
     "end_time": "2024-04-27T13:15:26.396921Z",
     "start_time": "2024-04-27T13:15:26.391884Z"
    }
   },
   "cell_type": "code",
   "source": "test_weights_1 - gradient_descent",
   "id": "b20c0e4159be9f05",
   "outputs": [
    {
     "data": {
      "text/plain": [
       "array([ 1.62420383, -0.48579617])"
      ]
     },
     "execution_count": 137,
     "metadata": {},
     "output_type": "execute_result"
    }
   ],
   "execution_count": 137
  },
  {
   "metadata": {
    "ExecuteTime": {
     "end_time": "2024-04-27T13:15:27.187223Z",
     "start_time": "2024-04-27T13:15:27.182302Z"
    }
   },
   "cell_type": "code",
   "source": [
    "target = np.array([0])\n",
    "prediction = predict(test_input_vector_2, test_weights_1 - gradient_descent, test_bias)\n",
    "error = mean_squared_error(target, prediction)\n",
    "print(f\"input={test_input_vector_2}, target={target}, prediction={prediction}, error={error}\")"
   ],
   "id": "7740ac5178e3b3a0",
   "outputs": [
    {
     "name": "stdout",
     "output_type": "stream",
     "text": [
      "input=[2.  1.5], target=[0], prediction=[0.9255123], error=[0.85657302]\n"
     ]
    }
   ],
   "execution_count": 138
  },
  {
   "metadata": {
    "ExecuteTime": {
     "end_time": "2024-04-27T13:15:28.049055Z",
     "start_time": "2024-04-27T13:15:28.043841Z"
    }
   },
   "cell_type": "code",
   "source": [
    "target = np.array([1])\n",
    "prediction = predict(test_input_vector_1, test_weights_1 - gradient_descent, test_bias)\n",
    "error = mean_squared_error(target, prediction)\n",
    "print(f\"input={test_input_vector_1}, target={target}, prediction={prediction}, error={error}\")"
   ],
   "id": "382fb571022d2a29",
   "outputs": [
    {
     "name": "stdout",
     "output_type": "stream",
     "text": [
      "input=[1.66 1.56], target=[1], prediction=[0.87416926], error=[0.01583338]\n"
     ]
    }
   ],
   "execution_count": 139
  },
  {
   "metadata": {},
   "cell_type": "code",
   "outputs": [],
   "execution_count": null,
   "source": "",
   "id": "fd9c073b8fd26fd1"
  }
 ],
 "metadata": {
  "kernelspec": {
   "display_name": "Python 3",
   "language": "python",
   "name": "python3"
  },
  "language_info": {
   "codemirror_mode": {
    "name": "ipython",
    "version": 2
   },
   "file_extension": ".py",
   "mimetype": "text/x-python",
   "name": "python",
   "nbconvert_exporter": "python",
   "pygments_lexer": "ipython2",
   "version": "2.7.6"
  }
 },
 "nbformat": 4,
 "nbformat_minor": 5
}
