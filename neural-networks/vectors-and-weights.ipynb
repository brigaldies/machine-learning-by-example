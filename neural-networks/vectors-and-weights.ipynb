{
 "cells": [
  {
   "metadata": {},
   "cell_type": "markdown",
   "source": [
    "# Vectors and Weights\n",
    "\n",
    "Source: [Building a Neural Network & Making Predictions With Python AI](https://realpython.com/courses/build-neural-network-python-ai/)"
   ],
   "id": "8577c65038c15cba"
  },
  {
   "metadata": {
    "ExecuteTime": {
     "end_time": "2024-04-14T15:34:16.900667Z",
     "start_time": "2024-04-14T15:34:16.897435Z"
    }
   },
   "cell_type": "code",
   "source": "import numpy as np",
   "id": "c906a1cb05797d00",
   "outputs": [],
   "execution_count": 5
  },
  {
   "metadata": {},
   "cell_type": "markdown",
   "source": "## Implement the vectors dot-product calculation by hand",
   "id": "8c60c55f69e47022"
  },
  {
   "metadata": {
    "ExecuteTime": {
     "end_time": "2024-04-14T15:36:51.071587Z",
     "start_time": "2024-04-14T15:36:51.067763Z"
    }
   },
   "cell_type": "code",
   "source": [
    "def vectors_dot_product(vector1: list[float], vector2: list[float]) -> float:\n",
    "    \"\"\"\n",
    "    Calculate the dot-product of two vectors.\n",
    "    :param vector1: First vector\n",
    "    :param vector2: Second vector\n",
    "    :return: Dot-product of two vectors\n",
    "    \"\"\"\n",
    "    \n",
    "    # Vectors (list) only\n",
    "    assert isinstance(vector1, list)\n",
    "    assert isinstance(vector2, list)\n",
    "    assert len(vector1) == len(vector2)\n",
    "\n",
    "    dot_product = 0\n",
    "    for index, vector_1_coord in enumerate(vector1):\n",
    "        vector_2_coord = vector2[index]\n",
    "        dot_product += vector_1_coord * vector_2_coord\n",
    "        return dot_product"
   ],
   "id": "7a89d7c6e590b678",
   "outputs": [],
   "execution_count": 6
  },
  {
   "metadata": {
    "ExecuteTime": {
     "end_time": "2024-04-14T15:36:51.615936Z",
     "start_time": "2024-04-14T15:36:51.612624Z"
    }
   },
   "cell_type": "code",
   "source": [
    "input_vector = [1.72, 1.23]\n",
    "weights_1 = [1.26, 0]\n",
    "weights_2 = [2.17, 0.32]"
   ],
   "id": "initial_id",
   "outputs": [],
   "execution_count": 7
  },
  {
   "metadata": {
    "ExecuteTime": {
     "end_time": "2024-04-14T15:36:54.720352Z",
     "start_time": "2024-04-14T15:36:54.717075Z"
    }
   },
   "cell_type": "code",
   "source": "assert vectors_dot_product(input_vector, weights_1) == input_vector[0] * weights_1[0] + input_vector[1] * weights_1[1]",
   "id": "1a06f18f763c96f1",
   "outputs": [],
   "execution_count": 8
  },
  {
   "metadata": {},
   "cell_type": "markdown",
   "source": "## Or, use numpy of course!",
   "id": "e4613878a99e671b"
  },
  {
   "metadata": {
    "ExecuteTime": {
     "end_time": "2024-04-14T15:37:27.439805Z",
     "start_time": "2024-04-14T15:37:27.435968Z"
    }
   },
   "cell_type": "code",
   "source": "assert vectors_dot_product(input_vector, weights_1) == np.dot(input_vector, weights_1)",
   "id": "943d15eee2088ed0",
   "outputs": [],
   "execution_count": 9
  },
  {
   "metadata": {},
   "cell_type": "code",
   "outputs": [],
   "execution_count": null,
   "source": "",
   "id": "97090948e0559c3b"
  }
 ],
 "metadata": {
  "kernelspec": {
   "display_name": "Python 3",
   "language": "python",
   "name": "python3"
  },
  "language_info": {
   "codemirror_mode": {
    "name": "ipython",
    "version": 2
   },
   "file_extension": ".py",
   "mimetype": "text/x-python",
   "name": "python",
   "nbconvert_exporter": "python",
   "pygments_lexer": "ipython2",
   "version": "2.7.6"
  }
 },
 "nbformat": 4,
 "nbformat_minor": 5
}
