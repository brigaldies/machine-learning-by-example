{
 "cells": [
  {
   "metadata": {},
   "cell_type": "markdown",
   "source": [
    "# Multiple-Variable Linear Regression\n",
    "\n",
    "Source: [Starting With Linear Regression in Python](https://realpython.com/courses/python-linear-regression/)"
   ],
   "id": "f5cccec6d3681e87"
  },
  {
   "metadata": {
    "ExecuteTime": {
     "end_time": "2024-04-13T17:57:23.869590Z",
     "start_time": "2024-04-13T17:57:23.727375Z"
    }
   },
   "cell_type": "code",
   "source": [
    "import numpy as np\n",
    "import pandas as pd\n",
    "import seaborn as sns\n",
    "from sklearn.linear_model import LinearRegression\n",
    "\n",
    "sns.set_style(\"darkgrid\")"
   ],
   "id": "2ae574966825f8ea",
   "outputs": [],
   "execution_count": 1
  },
  {
   "metadata": {},
   "cell_type": "markdown",
   "source": "## Dummy data",
   "id": "d328c89bb7ffe106"
  },
  {
   "metadata": {
    "ExecuteTime": {
     "end_time": "2024-04-13T18:01:08.182181Z",
     "start_time": "2024-04-13T18:01:08.178513Z"
    }
   },
   "cell_type": "code",
   "source": [
    "x = [[0, 1], [5, 1], [15, 2], [25, 5], [35, 11], [45, 15], [55, 34], [60, 35]]\n",
    "y = [4, 5, 20, 14, 32, 22, 38, 43]"
   ],
   "id": "77f2f78f87526c31",
   "outputs": [],
   "execution_count": 2
  },
  {
   "metadata": {
    "ExecuteTime": {
     "end_time": "2024-04-13T18:01:33.417558Z",
     "start_time": "2024-04-13T18:01:33.414136Z"
    }
   },
   "cell_type": "code",
   "source": [
    "x = np.array(x)\n",
    "y = np.array(y)"
   ],
   "id": "1f285df69183e5c8",
   "outputs": [],
   "execution_count": 3
  },
  {
   "metadata": {},
   "cell_type": "markdown",
   "source": "## Fit the model",
   "id": "fd7b6f294d7ee2a8"
  },
  {
   "metadata": {
    "ExecuteTime": {
     "end_time": "2024-04-13T18:04:01.757687Z",
     "start_time": "2024-04-13T18:04:01.751118Z"
    }
   },
   "cell_type": "code",
   "source": "model = LinearRegression().fit(x, y)",
   "id": "b1a667979acabb46",
   "outputs": [],
   "execution_count": 4
  },
  {
   "metadata": {
    "ExecuteTime": {
     "end_time": "2024-04-13T18:04:13.703328Z",
     "start_time": "2024-04-13T18:04:13.694060Z"
    }
   },
   "cell_type": "code",
   "source": "model.intercept_",
   "id": "f01e11a7da873517",
   "outputs": [
    {
     "data": {
      "text/plain": [
       "5.52257927519819"
      ]
     },
     "execution_count": 5,
     "metadata": {},
     "output_type": "execute_result"
    }
   ],
   "execution_count": 5
  },
  {
   "metadata": {
    "ExecuteTime": {
     "end_time": "2024-04-13T18:04:44.457458Z",
     "start_time": "2024-04-13T18:04:44.452618Z"
    }
   },
   "cell_type": "code",
   "source": "model.coef_",
   "id": "b3c08055b9a2e0a7",
   "outputs": [
    {
     "data": {
      "text/plain": [
       "array([0.44706965, 0.25502548])"
      ]
     },
     "execution_count": 7,
     "metadata": {},
     "output_type": "execute_result"
    }
   ],
   "execution_count": 7
  },
  {
   "metadata": {
    "ExecuteTime": {
     "end_time": "2024-04-13T18:05:06.489703Z",
     "start_time": "2024-04-13T18:05:06.484560Z"
    }
   },
   "cell_type": "code",
   "source": "model.score(x, y)",
   "id": "ef11116a9799eace",
   "outputs": [
    {
     "data": {
      "text/plain": [
       "0.8615939258756775"
      ]
     },
     "execution_count": 8,
     "metadata": {},
     "output_type": "execute_result"
    }
   ],
   "execution_count": 8
  },
  {
   "metadata": {
    "ExecuteTime": {
     "end_time": "2024-04-13T18:05:13.147730Z",
     "start_time": "2024-04-13T18:05:13.144274Z"
    }
   },
   "cell_type": "code",
   "source": "y_predicted = model.predict(x)",
   "id": "c84fb1f30490b3ab",
   "outputs": [],
   "execution_count": 9
  },
  {
   "metadata": {
    "ExecuteTime": {
     "end_time": "2024-04-13T18:05:17.738577Z",
     "start_time": "2024-04-13T18:05:17.733417Z"
    }
   },
   "cell_type": "code",
   "source": "y_predicted",
   "id": "dd19ea0f5015aace",
   "outputs": [
    {
     "data": {
      "text/plain": [
       "array([ 5.77760476,  8.012953  , 12.73867497, 17.9744479 , 23.97529728,\n",
       "       29.4660957 , 38.78227633, 41.27265006])"
      ]
     },
     "execution_count": 10,
     "metadata": {},
     "output_type": "execute_result"
    }
   ],
   "execution_count": 10
  },
  {
   "metadata": {
    "ExecuteTime": {
     "end_time": "2024-04-13T18:05:56.509641Z",
     "start_time": "2024-04-13T18:05:56.504456Z"
    }
   },
   "cell_type": "code",
   "source": "y, y_predicted",
   "id": "4b5e6166948f0abe",
   "outputs": [
    {
     "data": {
      "text/plain": [
       "(array([ 4,  5, 20, 14, 32, 22, 38, 43]),\n",
       " array([ 5.77760476,  8.012953  , 12.73867497, 17.9744479 , 23.97529728,\n",
       "        29.4660957 , 38.78227633, 41.27265006]))"
      ]
     },
     "execution_count": 11,
     "metadata": {},
     "output_type": "execute_result"
    }
   ],
   "execution_count": 11
  },
  {
   "metadata": {
    "ExecuteTime": {
     "end_time": "2024-04-13T18:08:01.938132Z",
     "start_time": "2024-04-13T18:08:01.933252Z"
    }
   },
   "cell_type": "code",
   "source": [
    "new_observations = np.arange(10).reshape((-1, 2))\n",
    "new_observations"
   ],
   "id": "30cd7e9c9616fa75",
   "outputs": [
    {
     "data": {
      "text/plain": [
       "array([[0, 1],\n",
       "       [2, 3],\n",
       "       [4, 5],\n",
       "       [6, 7],\n",
       "       [8, 9]])"
      ]
     },
     "execution_count": 12,
     "metadata": {},
     "output_type": "execute_result"
    }
   ],
   "execution_count": 12
  },
  {
   "metadata": {
    "ExecuteTime": {
     "end_time": "2024-04-13T18:08:20.658062Z",
     "start_time": "2024-04-13T18:08:20.653215Z"
    }
   },
   "cell_type": "code",
   "source": [
    "y_predicted = model.predict(new_observations)\n",
    "y_predicted"
   ],
   "id": "9cbd186c9931f1b",
   "outputs": [
    {
     "data": {
      "text/plain": [
       "array([ 5.77760476,  7.18179502,  8.58598528,  9.99017554, 11.3943658 ])"
      ]
     },
     "execution_count": 13,
     "metadata": {},
     "output_type": "execute_result"
    }
   ],
   "execution_count": 13
  },
  {
   "metadata": {},
   "cell_type": "code",
   "outputs": [],
   "execution_count": null,
   "source": "",
   "id": "cdbc8e88e724fd6d"
  }
 ],
 "metadata": {
  "kernelspec": {
   "display_name": "Python 3",
   "language": "python",
   "name": "python3"
  },
  "language_info": {
   "codemirror_mode": {
    "name": "ipython",
    "version": 2
   },
   "file_extension": ".py",
   "mimetype": "text/x-python",
   "name": "python",
   "nbconvert_exporter": "python",
   "pygments_lexer": "ipython2",
   "version": "2.7.6"
  }
 },
 "nbformat": 4,
 "nbformat_minor": 5
}
