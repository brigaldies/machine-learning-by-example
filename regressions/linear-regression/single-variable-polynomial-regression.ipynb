{
 "cells": [
  {
   "metadata": {},
   "cell_type": "markdown",
   "source": [
    "# Single-Variable Polynomial Regression\n",
    "\n",
    "Source: [Starting With Linear Regression in Python](https://realpython.com/courses/python-linear-regression/)"
   ],
   "id": "ed4abca8cf669c7b"
  },
  {
   "metadata": {
    "ExecuteTime": {
     "end_time": "2024-04-13T18:28:27.221537Z",
     "start_time": "2024-04-13T18:28:27.096470Z"
    }
   },
   "cell_type": "code",
   "source": [
    "import numpy as np\n",
    "import pandas as pd\n",
    "import seaborn as sns\n",
    "from sklearn.linear_model import LinearRegression\n",
    "from sklearn.preprocessing import PolynomialFeatures\n",
    "\n",
    "sns.set_style(\"darkgrid\")"
   ],
   "id": "7d05122a77997ba",
   "outputs": [],
   "execution_count": 1
  },
  {
   "metadata": {},
   "cell_type": "markdown",
   "source": "## Dummy Data",
   "id": "88529e57cbdbeb6c"
  },
  {
   "metadata": {
    "ExecuteTime": {
     "end_time": "2024-04-13T18:29:17.458849Z",
     "start_time": "2024-04-13T18:29:17.451099Z"
    }
   },
   "cell_type": "code",
   "source": [
    "x = np.array([5, 15, 25, 35, 45, 55]).reshape((-1, 1))\n",
    "x"
   ],
   "id": "66749387e945b637",
   "outputs": [
    {
     "data": {
      "text/plain": [
       "array([[ 5],\n",
       "       [15],\n",
       "       [25],\n",
       "       [35],\n",
       "       [45],\n",
       "       [55]])"
      ]
     },
     "execution_count": 3,
     "metadata": {},
     "output_type": "execute_result"
    }
   ],
   "execution_count": 3
  },
  {
   "metadata": {
    "ExecuteTime": {
     "end_time": "2024-04-13T18:29:23.930392Z",
     "start_time": "2024-04-13T18:29:23.925259Z"
    }
   },
   "cell_type": "code",
   "source": [
    "y = np.array([15, 11, 2, 8, 25, 32])\n",
    "y"
   ],
   "id": "dbaedfb00b11d848",
   "outputs": [
    {
     "data": {
      "text/plain": [
       "array([15, 11,  2,  8, 25, 32])"
      ]
     },
     "execution_count": 4,
     "metadata": {},
     "output_type": "execute_result"
    }
   ],
   "execution_count": 4
  },
  {
   "metadata": {},
   "cell_type": "markdown",
   "source": [
    "## Create the polynomial variables from 'x': x, x^2\n",
    "\n",
    "Without bias (i.e., without the first column of ones)"
   ],
   "id": "b3bbb4b20781970a"
  },
  {
   "metadata": {
    "ExecuteTime": {
     "end_time": "2024-04-13T18:31:50.991888Z",
     "start_time": "2024-04-13T18:31:50.989331Z"
    }
   },
   "cell_type": "code",
   "source": "transformer = PolynomialFeatures(degree=2, include_bias=False)",
   "id": "170ecb95331ffece",
   "outputs": [],
   "execution_count": 6
  },
  {
   "metadata": {
    "ExecuteTime": {
     "end_time": "2024-04-13T18:32:09.566215Z",
     "start_time": "2024-04-13T18:32:09.560457Z"
    }
   },
   "cell_type": "code",
   "source": [
    "x_polynomial = transformer.fit_transform(x)\n",
    "x_polynomial"
   ],
   "id": "771b76ce69394f24",
   "outputs": [
    {
     "data": {
      "text/plain": [
       "array([[   5.,   25.],\n",
       "       [  15.,  225.],\n",
       "       [  25.,  625.],\n",
       "       [  35., 1225.],\n",
       "       [  45., 2025.],\n",
       "       [  55., 3025.]])"
      ]
     },
     "execution_count": 8,
     "metadata": {},
     "output_type": "execute_result"
    }
   ],
   "execution_count": 8
  },
  {
   "metadata": {},
   "cell_type": "markdown",
   "source": "## Fit a linear regression model with two variables: z1=x, z2=x^2",
   "id": "97746f69ebedfe81"
  },
  {
   "metadata": {
    "ExecuteTime": {
     "end_time": "2024-04-13T18:36:00.798812Z",
     "start_time": "2024-04-13T18:36:00.794931Z"
    }
   },
   "cell_type": "code",
   "source": "model = LinearRegression().fit(x_polynomial, y)",
   "id": "fb3cc1d469bc07af",
   "outputs": [],
   "execution_count": 10
  },
  {
   "metadata": {
    "ExecuteTime": {
     "end_time": "2024-04-13T18:36:12.718048Z",
     "start_time": "2024-04-13T18:36:12.713642Z"
    }
   },
   "cell_type": "code",
   "source": "model.intercept_",
   "id": "3f99f6193bf4502a",
   "outputs": [
    {
     "data": {
      "text/plain": [
       "21.37232142857144"
      ]
     },
     "execution_count": 11,
     "metadata": {},
     "output_type": "execute_result"
    }
   ],
   "execution_count": 11
  },
  {
   "metadata": {
    "ExecuteTime": {
     "end_time": "2024-04-13T18:36:20.637548Z",
     "start_time": "2024-04-13T18:36:20.632730Z"
    }
   },
   "cell_type": "code",
   "source": "model.coef_",
   "id": "960f0be550f0ce1c",
   "outputs": [
    {
     "data": {
      "text/plain": [
       "array([-1.32357143,  0.02839286])"
      ]
     },
     "execution_count": 12,
     "metadata": {},
     "output_type": "execute_result"
    }
   ],
   "execution_count": 12
  },
  {
   "metadata": {},
   "cell_type": "markdown",
   "source": "## R-Square score",
   "id": "1be68287c44e0b25"
  },
  {
   "metadata": {
    "ExecuteTime": {
     "end_time": "2024-04-13T18:37:25.536643Z",
     "start_time": "2024-04-13T18:37:25.532361Z"
    }
   },
   "cell_type": "code",
   "source": "model.score(x_polynomial, y)",
   "id": "7d9561a958662fbf",
   "outputs": [
    {
     "data": {
      "text/plain": [
       "0.8908516262498563"
      ]
     },
     "execution_count": 15,
     "metadata": {},
     "output_type": "execute_result"
    }
   ],
   "execution_count": 15
  },
  {
   "metadata": {},
   "cell_type": "markdown",
   "source": "## Residuals",
   "id": "2fed4c45917c9423"
  },
  {
   "metadata": {
    "ExecuteTime": {
     "end_time": "2024-04-13T18:37:36.454870Z",
     "start_time": "2024-04-13T18:37:36.450112Z"
    }
   },
   "cell_type": "code",
   "source": "y - model.predict(x_polynomial)",
   "id": "115732e5094b6d89",
   "outputs": [
    {
     "data": {
      "text/plain": [
       "array([-0.46428571,  3.09285714, -4.02857143, -1.82857143,  5.69285714,\n",
       "       -2.46428571])"
      ]
     },
     "execution_count": 16,
     "metadata": {},
     "output_type": "execute_result"
    }
   ],
   "execution_count": 16
  },
  {
   "metadata": {},
   "cell_type": "markdown",
   "source": "## Plot the polynomial line at degree=2",
   "id": "d96f4729bc75c509"
  },
  {
   "metadata": {
    "ExecuteTime": {
     "end_time": "2024-04-13T18:46:05.938032Z",
     "start_time": "2024-04-13T18:46:05.552786Z"
    }
   },
   "cell_type": "code",
   "source": [
    "# Supress the warnings that the data is not a good fit for polynomial regression\n",
    "import warnings\n",
    "warnings.simplefilter('ignore', np.RankWarning)\n",
    "\n",
    "sns.regplot(x=x, y=y, order=2)"
   ],
   "id": "e40c689d39207f00",
   "outputs": [
    {
     "data": {
      "text/plain": [
       "<Axes: >"
      ]
     },
     "execution_count": 21,
     "metadata": {},
     "output_type": "execute_result"
    },
    {
     "data": {
      "text/plain": [
       "<Figure size 640x480 with 1 Axes>"
      ],
      "image/png": "[encoded data removed]"
     },
     "metadata": {},
     "output_type": "display_data"
    }
   ],
   "execution_count": 21
  },
  {
   "metadata": {},
   "cell_type": "code",
   "outputs": [],
   "execution_count": null,
   "source": "",
   "id": "1af25aa8b2ee3a3"
  }
 ],
 "metadata": {
  "kernelspec": {
   "display_name": "Python 3",
   "language": "python",
   "name": "python3"
  },
  "language_info": {
   "codemirror_mode": {
    "name": "ipython",
    "version": 2
   },
   "file_extension": ".py",
   "mimetype": "text/x-python",
   "name": "python",
   "nbconvert_exporter": "python",
   "pygments_lexer": "ipython2",
   "version": "2.7.6"
  }
 },
 "nbformat": 4,
 "nbformat_minor": 5
}
